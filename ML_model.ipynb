{
  "nbformat": 4,
  "nbformat_minor": 0,
  "metadata": {
    "colab": {
      "name": "ML_model.ipynb",
      "provenance": []
    },
    "kernelspec": {
      "name": "python3",
      "display_name": "Python 3"
    },
    "language_info": {
      "name": "python"
    }
  },
  "cells": [
    {
      "cell_type": "markdown",
      "metadata": {
        "id": "Kctr2fN3N5qg"
      },
      "source": [
        "\n",
        "\n",
        "**Submitted By:   APARNAA M**\n",
        "\n",
        "**REG NO: 20MDT1009**\n"
      ]
    },
    {
      "cell_type": "code",
      "metadata": {
        "id": "IWaeHnbJMd_Q"
      },
      "source": [
        "import numpy as np\n",
        "import pandas as pd\n",
        "import matplotlib.pyplot as plt\n",
        "from sklearn.linear_model import LinearRegression\n",
        "from sklearn.model_selection import train_test_split\n",
        "from sklearn.metrics import r2_score\n",
        "import seaborn as sns"
      ],
      "execution_count": 1,
      "outputs": []
    },
    {
      "cell_type": "markdown",
      "metadata": {
        "id": "gzCkkp_fO5VU"
      },
      "source": [
        "Given the data collected on, use the linear regression model\n",
        "to fit the model and check for the goodness of the model using R2 value.\n"
      ]
    },
    {
      "cell_type": "code",
      "metadata": {
        "colab": {
          "base_uri": "https://localhost:8080/",
          "height": 206
        },
        "id": "ivvJfqfwPDWD",
        "outputId": "79e3f2a2-6ec8-4a6c-b1ba-611dfc8170f3"
      },
      "source": [
        "df = pd.read_csv('/content/salary_predict_dataset.csv')\n",
        "df.head()\n"
      ],
      "execution_count": 2,
      "outputs": [
        {
          "output_type": "execute_result",
          "data": {
            "text/html": [
              "<div>\n",
              "<style scoped>\n",
              "    .dataframe tbody tr th:only-of-type {\n",
              "        vertical-align: middle;\n",
              "    }\n",
              "\n",
              "    .dataframe tbody tr th {\n",
              "        vertical-align: top;\n",
              "    }\n",
              "\n",
              "    .dataframe thead th {\n",
              "        text-align: right;\n",
              "    }\n",
              "</style>\n",
              "<table border=\"1\" class=\"dataframe\">\n",
              "  <thead>\n",
              "    <tr style=\"text-align: right;\">\n",
              "      <th></th>\n",
              "      <th>experience</th>\n",
              "      <th>test_score</th>\n",
              "      <th>interview_score</th>\n",
              "      <th>Salary</th>\n",
              "    </tr>\n",
              "  </thead>\n",
              "  <tbody>\n",
              "    <tr>\n",
              "      <th>0</th>\n",
              "      <td>NaN</td>\n",
              "      <td>8.0</td>\n",
              "      <td>8.0</td>\n",
              "      <td>50000</td>\n",
              "    </tr>\n",
              "    <tr>\n",
              "      <th>1</th>\n",
              "      <td>NaN</td>\n",
              "      <td>5.0</td>\n",
              "      <td>4.0</td>\n",
              "      <td>22000</td>\n",
              "    </tr>\n",
              "    <tr>\n",
              "      <th>2</th>\n",
              "      <td>three</td>\n",
              "      <td>6.0</td>\n",
              "      <td>5.0</td>\n",
              "      <td>30000</td>\n",
              "    </tr>\n",
              "    <tr>\n",
              "      <th>3</th>\n",
              "      <td>five</td>\n",
              "      <td>9.0</td>\n",
              "      <td>9.0</td>\n",
              "      <td>55000</td>\n",
              "    </tr>\n",
              "    <tr>\n",
              "      <th>4</th>\n",
              "      <td>six</td>\n",
              "      <td>3.0</td>\n",
              "      <td>5.0</td>\n",
              "      <td>13000</td>\n",
              "    </tr>\n",
              "  </tbody>\n",
              "</table>\n",
              "</div>"
            ],
            "text/plain": [
              "  experience  test_score  interview_score  Salary\n",
              "0        NaN         8.0              8.0   50000\n",
              "1        NaN         5.0              4.0   22000\n",
              "2      three         6.0              5.0   30000\n",
              "3       five         9.0              9.0   55000\n",
              "4        six         3.0              5.0   13000"
            ]
          },
          "metadata": {},
          "execution_count": 2
        }
      ]
    },
    {
      "cell_type": "code",
      "metadata": {
        "colab": {
          "base_uri": "https://localhost:8080/",
          "height": 300
        },
        "id": "jjjUZCJqPUNG",
        "outputId": "2b0cfce4-40f9-468b-b475-2e5b6187f973"
      },
      "source": [
        "df.describe()"
      ],
      "execution_count": 3,
      "outputs": [
        {
          "output_type": "execute_result",
          "data": {
            "text/html": [
              "<div>\n",
              "<style scoped>\n",
              "    .dataframe tbody tr th:only-of-type {\n",
              "        vertical-align: middle;\n",
              "    }\n",
              "\n",
              "    .dataframe tbody tr th {\n",
              "        vertical-align: top;\n",
              "    }\n",
              "\n",
              "    .dataframe thead th {\n",
              "        text-align: right;\n",
              "    }\n",
              "</style>\n",
              "<table border=\"1\" class=\"dataframe\">\n",
              "  <thead>\n",
              "    <tr style=\"text-align: right;\">\n",
              "      <th></th>\n",
              "      <th>test_score</th>\n",
              "      <th>interview_score</th>\n",
              "      <th>Salary</th>\n",
              "    </tr>\n",
              "  </thead>\n",
              "  <tbody>\n",
              "    <tr>\n",
              "      <th>count</th>\n",
              "      <td>19.000000</td>\n",
              "      <td>19.000000</td>\n",
              "      <td>20.000000</td>\n",
              "    </tr>\n",
              "    <tr>\n",
              "      <th>mean</th>\n",
              "      <td>5.447368</td>\n",
              "      <td>5.657895</td>\n",
              "      <td>30350.000000</td>\n",
              "    </tr>\n",
              "    <tr>\n",
              "      <th>std</th>\n",
              "      <td>2.832817</td>\n",
              "      <td>2.516902</td>\n",
              "      <td>19780.439567</td>\n",
              "    </tr>\n",
              "    <tr>\n",
              "      <th>min</th>\n",
              "      <td>1.000000</td>\n",
              "      <td>1.000000</td>\n",
              "      <td>500.000000</td>\n",
              "    </tr>\n",
              "    <tr>\n",
              "      <th>25%</th>\n",
              "      <td>3.000000</td>\n",
              "      <td>4.500000</td>\n",
              "      <td>12750.000000</td>\n",
              "    </tr>\n",
              "    <tr>\n",
              "      <th>50%</th>\n",
              "      <td>5.000000</td>\n",
              "      <td>6.000000</td>\n",
              "      <td>27500.000000</td>\n",
              "    </tr>\n",
              "    <tr>\n",
              "      <th>75%</th>\n",
              "      <td>8.000000</td>\n",
              "      <td>7.750000</td>\n",
              "      <td>48500.000000</td>\n",
              "    </tr>\n",
              "    <tr>\n",
              "      <th>max</th>\n",
              "      <td>9.000000</td>\n",
              "      <td>9.000000</td>\n",
              "      <td>60000.000000</td>\n",
              "    </tr>\n",
              "  </tbody>\n",
              "</table>\n",
              "</div>"
            ],
            "text/plain": [
              "       test_score  interview_score        Salary\n",
              "count   19.000000        19.000000     20.000000\n",
              "mean     5.447368         5.657895  30350.000000\n",
              "std      2.832817         2.516902  19780.439567\n",
              "min      1.000000         1.000000    500.000000\n",
              "25%      3.000000         4.500000  12750.000000\n",
              "50%      5.000000         6.000000  27500.000000\n",
              "75%      8.000000         7.750000  48500.000000\n",
              "max      9.000000         9.000000  60000.000000"
            ]
          },
          "metadata": {},
          "execution_count": 3
        }
      ]
    },
    {
      "cell_type": "code",
      "metadata": {
        "colab": {
          "base_uri": "https://localhost:8080/"
        },
        "id": "XmmPi0nPeZSw",
        "outputId": "c02bc181-4b7a-416e-9c8f-f85269a92244"
      },
      "source": [
        "df.info()"
      ],
      "execution_count": 4,
      "outputs": [
        {
          "output_type": "stream",
          "name": "stdout",
          "text": [
            "<class 'pandas.core.frame.DataFrame'>\n",
            "RangeIndex: 20 entries, 0 to 19\n",
            "Data columns (total 4 columns):\n",
            " #   Column           Non-Null Count  Dtype  \n",
            "---  ------           --------------  -----  \n",
            " 0   experience       15 non-null     object \n",
            " 1   test_score       19 non-null     float64\n",
            " 2   interview_score  19 non-null     float64\n",
            " 3   Salary           20 non-null     int64  \n",
            "dtypes: float64(2), int64(1), object(1)\n",
            "memory usage: 768.0+ bytes\n"
          ]
        }
      ]
    },
    {
      "cell_type": "code",
      "metadata": {
        "colab": {
          "base_uri": "https://localhost:8080/"
        },
        "id": "o5rYwR8pe9Oq",
        "outputId": "db5603cc-f5cd-4c9c-d24f-0d7c72cd713e"
      },
      "source": [
        "#Lets get total score from test and interview sco\n",
        "total_score= df[\"test_score\"] + df[\"interview_score\"]\n",
        "df[\"total_score\"] = total_score\n",
        "print(df)"
      ],
      "execution_count": 7,
      "outputs": [
        {
          "output_type": "stream",
          "name": "stdout",
          "text": [
            "   experience  test_score  interview_score  Salary  total_score\n",
            "0         NaN         8.0              8.0   50000         16.0\n",
            "1         NaN         5.0              4.0   22000          9.0\n",
            "2       three         6.0              5.0   30000         11.0\n",
            "3        five         9.0              9.0   55000         18.0\n",
            "4         six         3.0              5.0   13000          8.0\n",
            "5         NaN         2.0              1.0    9000          3.0\n",
            "6         ten         8.0              6.0   48000         14.0\n",
            "7         one         1.0              2.0     500          3.0\n",
            "8     fifteen         9.0              9.0   60000         18.0\n",
            "9    thirteen         7.5              7.5   45000         15.0\n",
            "10        ten         NaN              5.0   25000          NaN\n",
            "11        NaN         1.0              1.0     500          2.0\n",
            "12        one         3.0              6.0   25000          9.0\n",
            "13       four         5.0              4.0   36000          9.0\n",
            "14        six         5.0              NaN    8000          NaN\n",
            "15     eleven         9.0              8.0   55000         17.0\n",
            "16     twelve         9.0              9.0   58000         18.0\n",
            "17        NaN         2.0              6.0   12000          8.0\n",
            "18      three         5.0              5.0   20000         10.0\n",
            "19       five         6.0              7.0   35000         13.0\n"
          ]
        }
      ]
    },
    {
      "cell_type": "code",
      "metadata": {
        "colab": {
          "base_uri": "https://localhost:8080/",
          "height": 457
        },
        "id": "O0kEWy9rfqrj",
        "outputId": "37283864-c693-4549-ed61-796dff13c728"
      },
      "source": [
        "#Handling missing values , since we have very lessmissing values we simply drop the null values.\n",
        "new_df=df. dropna()\n",
        "new_df"
      ],
      "execution_count": 16,
      "outputs": [
        {
          "output_type": "execute_result",
          "data": {
            "text/html": [
              "<div>\n",
              "<style scoped>\n",
              "    .dataframe tbody tr th:only-of-type {\n",
              "        vertical-align: middle;\n",
              "    }\n",
              "\n",
              "    .dataframe tbody tr th {\n",
              "        vertical-align: top;\n",
              "    }\n",
              "\n",
              "    .dataframe thead th {\n",
              "        text-align: right;\n",
              "    }\n",
              "</style>\n",
              "<table border=\"1\" class=\"dataframe\">\n",
              "  <thead>\n",
              "    <tr style=\"text-align: right;\">\n",
              "      <th></th>\n",
              "      <th>experience</th>\n",
              "      <th>test_score</th>\n",
              "      <th>interview_score</th>\n",
              "      <th>Salary</th>\n",
              "      <th>total_score</th>\n",
              "    </tr>\n",
              "  </thead>\n",
              "  <tbody>\n",
              "    <tr>\n",
              "      <th>2</th>\n",
              "      <td>three</td>\n",
              "      <td>6.0</td>\n",
              "      <td>5.0</td>\n",
              "      <td>30000</td>\n",
              "      <td>11.0</td>\n",
              "    </tr>\n",
              "    <tr>\n",
              "      <th>3</th>\n",
              "      <td>five</td>\n",
              "      <td>9.0</td>\n",
              "      <td>9.0</td>\n",
              "      <td>55000</td>\n",
              "      <td>18.0</td>\n",
              "    </tr>\n",
              "    <tr>\n",
              "      <th>4</th>\n",
              "      <td>six</td>\n",
              "      <td>3.0</td>\n",
              "      <td>5.0</td>\n",
              "      <td>13000</td>\n",
              "      <td>8.0</td>\n",
              "    </tr>\n",
              "    <tr>\n",
              "      <th>6</th>\n",
              "      <td>ten</td>\n",
              "      <td>8.0</td>\n",
              "      <td>6.0</td>\n",
              "      <td>48000</td>\n",
              "      <td>14.0</td>\n",
              "    </tr>\n",
              "    <tr>\n",
              "      <th>7</th>\n",
              "      <td>one</td>\n",
              "      <td>1.0</td>\n",
              "      <td>2.0</td>\n",
              "      <td>500</td>\n",
              "      <td>3.0</td>\n",
              "    </tr>\n",
              "    <tr>\n",
              "      <th>8</th>\n",
              "      <td>fifteen</td>\n",
              "      <td>9.0</td>\n",
              "      <td>9.0</td>\n",
              "      <td>60000</td>\n",
              "      <td>18.0</td>\n",
              "    </tr>\n",
              "    <tr>\n",
              "      <th>9</th>\n",
              "      <td>thirteen</td>\n",
              "      <td>7.5</td>\n",
              "      <td>7.5</td>\n",
              "      <td>45000</td>\n",
              "      <td>15.0</td>\n",
              "    </tr>\n",
              "    <tr>\n",
              "      <th>12</th>\n",
              "      <td>one</td>\n",
              "      <td>3.0</td>\n",
              "      <td>6.0</td>\n",
              "      <td>25000</td>\n",
              "      <td>9.0</td>\n",
              "    </tr>\n",
              "    <tr>\n",
              "      <th>13</th>\n",
              "      <td>four</td>\n",
              "      <td>5.0</td>\n",
              "      <td>4.0</td>\n",
              "      <td>36000</td>\n",
              "      <td>9.0</td>\n",
              "    </tr>\n",
              "    <tr>\n",
              "      <th>15</th>\n",
              "      <td>eleven</td>\n",
              "      <td>9.0</td>\n",
              "      <td>8.0</td>\n",
              "      <td>55000</td>\n",
              "      <td>17.0</td>\n",
              "    </tr>\n",
              "    <tr>\n",
              "      <th>16</th>\n",
              "      <td>twelve</td>\n",
              "      <td>9.0</td>\n",
              "      <td>9.0</td>\n",
              "      <td>58000</td>\n",
              "      <td>18.0</td>\n",
              "    </tr>\n",
              "    <tr>\n",
              "      <th>18</th>\n",
              "      <td>three</td>\n",
              "      <td>5.0</td>\n",
              "      <td>5.0</td>\n",
              "      <td>20000</td>\n",
              "      <td>10.0</td>\n",
              "    </tr>\n",
              "    <tr>\n",
              "      <th>19</th>\n",
              "      <td>five</td>\n",
              "      <td>6.0</td>\n",
              "      <td>7.0</td>\n",
              "      <td>35000</td>\n",
              "      <td>13.0</td>\n",
              "    </tr>\n",
              "  </tbody>\n",
              "</table>\n",
              "</div>"
            ],
            "text/plain": [
              "   experience  test_score  interview_score  Salary  total_score\n",
              "2       three         6.0              5.0   30000         11.0\n",
              "3        five         9.0              9.0   55000         18.0\n",
              "4         six         3.0              5.0   13000          8.0\n",
              "6         ten         8.0              6.0   48000         14.0\n",
              "7         one         1.0              2.0     500          3.0\n",
              "8     fifteen         9.0              9.0   60000         18.0\n",
              "9    thirteen         7.5              7.5   45000         15.0\n",
              "12        one         3.0              6.0   25000          9.0\n",
              "13       four         5.0              4.0   36000          9.0\n",
              "15     eleven         9.0              8.0   55000         17.0\n",
              "16     twelve         9.0              9.0   58000         18.0\n",
              "18      three         5.0              5.0   20000         10.0\n",
              "19       five         6.0              7.0   35000         13.0"
            ]
          },
          "metadata": {},
          "execution_count": 16
        }
      ]
    },
    {
      "cell_type": "code",
      "metadata": {
        "colab": {
          "base_uri": "https://localhost:8080/",
          "height": 215
        },
        "id": "ut896yKxesQn",
        "outputId": "77af3e0d-83bf-4f95-ced9-575cf1bca60d"
      },
      "source": [
        "sns.pairplot(new_df, x_vars=[\"total_score\"],y_vars=[\"Salary\"])"
      ],
      "execution_count": 17,
      "outputs": [
        {
          "output_type": "execute_result",
          "data": {
            "text/plain": [
              "<seaborn.axisgrid.PairGrid at 0x7fabc19b7c50>"
            ]
          },
          "metadata": {},
          "execution_count": 17
        },
        {
          "output_type": "display_data",
          "data": {
            "image/png": "[encoded data removed]",
            "text/plain": [
              "<Figure size 180x180 with 1 Axes>"
            ]
          },
          "metadata": {
            "needs_background": "light"
          }
        }
      ]
    },
    {
      "cell_type": "markdown",
      "metadata": {
        "id": "dCZneJkRgFPV"
      },
      "source": [
        "For Linear Regression model lets have x= total_score and Y=Salary to predict the salary amount based on the test score of the candidate."
      ]
    },
    {
      "cell_type": "code",
      "metadata": {
        "colab": {
          "base_uri": "https://localhost:8080/",
          "height": 336
        },
        "id": "UKCisGgcgO0m",
        "outputId": "fa673a0e-6660-4fbc-8e31-1cb23bcf9065"
      },
      "source": [
        "sns.boxplot(new_df[\"total_score\"])\n",
        "plt.show()"
      ],
      "execution_count": 18,
      "outputs": [
        {
          "output_type": "stream",
          "name": "stderr",
          "text": [
            "/usr/local/lib/python3.7/dist-packages/seaborn/_decorators.py:43: FutureWarning: Pass the following variable as a keyword arg: x. From version 0.12, the only valid positional argument will be `data`, and passing other arguments without an explicit keyword will result in an error or misinterpretation.\n",
            "  FutureWarning\n"
          ]
        },
        {
          "output_type": "display_data",
          "data": {
            "image/png": "[encoded data removed]",
            "text/plain": [
              "<Figure size 432x288 with 1 Axes>"
            ]
          },
          "metadata": {
            "needs_background": "light"
          }
        }
      ]
    },
    {
      "cell_type": "code",
      "metadata": {
        "colab": {
          "base_uri": "https://localhost:8080/",
          "height": 744
        },
        "id": "fEIqPCWGkeol",
        "outputId": "35f4c7c4-bc6d-4f84-a0bb-4fa68ef9a607"
      },
      "source": [
        "sns.pairplot(df)"
      ],
      "execution_count": 52,
      "outputs": [
        {
          "output_type": "execute_result",
          "data": {
            "text/plain": [
              "<seaborn.axisgrid.PairGrid at 0x7fabc15d42d0>"
            ]
          },
          "metadata": {},
          "execution_count": 52
        },
        {
          "output_type": "display_data",
          "data": {
            "image/png": "[encoded data removed]",
            "text/plain": [
              "<Figure size 720x720 with 20 Axes>"
            ]
          },
          "metadata": {}
        }
      ]
    },
    {
      "cell_type": "code",
      "metadata": {
        "id": "vBMAk7qyfvOD"
      },
      "source": [
        "X=new_df[[\"total_score\"]]\n",
        "\n",
        "Y=new_df[\"Salary\"]\n"
      ],
      "execution_count": 20,
      "outputs": []
    },
    {
      "cell_type": "markdown",
      "metadata": {
        "id": "mfkBtosvhAHY"
      },
      "source": [
        "Split the data into train and test set"
      ]
    },
    {
      "cell_type": "code",
      "metadata": {
        "id": "0dLbVONlgpO7"
      },
      "source": [
        "X_train, X_test, y_train, y_test = train_test_split(X,Y,test_size = 0.01,random_state=100)\n"
      ],
      "execution_count": 41,
      "outputs": []
    },
    {
      "cell_type": "markdown",
      "metadata": {
        "id": "dcGFrra-hGdj"
      },
      "source": [
        "Fit the model"
      ]
    },
    {
      "cell_type": "code",
      "metadata": {
        "colab": {
          "base_uri": "https://localhost:8080/"
        },
        "id": "37HEpP9rhDWu",
        "outputId": "fb0133a5-2be7-4d03-dc3b-6e9371aa826b"
      },
      "source": [
        "model = LinearRegression()\n",
        "model.fit(X_train,y_train)\n"
      ],
      "execution_count": 42,
      "outputs": [
        {
          "output_type": "execute_result",
          "data": {
            "text/plain": [
              "LinearRegression()"
            ]
          },
          "metadata": {},
          "execution_count": 42
        }
      ]
    },
    {
      "cell_type": "code",
      "metadata": {
        "colab": {
          "base_uri": "https://localhost:8080/"
        },
        "id": "-2xv76B8hRCG",
        "outputId": "e5eee6e7-4458-4239-b015-e0b512379eb8"
      },
      "source": [
        "# b is coefficient , Bo is intercept\n",
        "\n",
        "b_0 = model.intercept_\n",
        "b = model.coef_\n",
        "\n",
        "print(\"The coefficients are:\")\n",
        "print(\"b_0:\", b_0,\"\\n\", \"b:\", b)\n"
      ],
      "execution_count": 43,
      "outputs": [
        {
          "output_type": "stream",
          "name": "stdout",
          "text": [
            "The coefficients are:\n",
            "b_0: -11169.252977264536 \n",
            " b: [3838.14507398]\n"
          ]
        }
      ]
    },
    {
      "cell_type": "markdown",
      "metadata": {
        "id": "XfMR0M92jAOQ"
      },
      "source": [
        "Goodness of Fit"
      ]
    },
    {
      "cell_type": "code",
      "metadata": {
        "colab": {
          "base_uri": "https://localhost:8080/"
        },
        "id": "dDzTPL8Lhd6Q",
        "outputId": "8b51a523-8149-4e13-98b4-ffa643d59eb1"
      },
      "source": [
        "y_pred = model.predict(X_test) # y_pred = b_0 + b_1*x_1 + ..\n",
        "y_pred\n",
        "r_2 = r2_score(y_test,y_pred)\n",
        "print(\"The value of R^2:\",r_2)\n"
      ],
      "execution_count": 44,
      "outputs": [
        {
          "output_type": "stream",
          "name": "stdout",
          "text": [
            "The value of R^2: nan\n"
          ]
        },
        {
          "output_type": "stream",
          "name": "stderr",
          "text": [
            "/usr/local/lib/python3.7/dist-packages/sklearn/metrics/_regression.py:781: UndefinedMetricWarning: R^2 score is not well-defined with less than two samples.\n",
            "  warnings.warn(msg, UndefinedMetricWarning)\n"
          ]
        }
      ]
    },
    {
      "cell_type": "markdown",
      "metadata": {
        "id": "DDF7Wn9rsVl-"
      },
      "source": [
        "**Example:**\n",
        "\n",
        "Lets assume if the total score of the candidate is 7 , then what will his predicted salary be?\n"
      ]
    },
    {
      "cell_type": "code",
      "metadata": {
        "colab": {
          "base_uri": "https://localhost:8080/"
        },
        "id": "5ofydRwGqY3O",
        "outputId": "2cc790fd-3bc9-4920-a108-9981c2d3f534"
      },
      "source": [
        "total_score = np.array([[7]])\n",
        "salary_predicted = model.predict(total_score)\n",
        "print(\"Total Score = {}\".format(total_score))\n",
        "print(\" Predicted Salary = {}\".format(salary_predicted[0]))"
      ],
      "execution_count": 51,
      "outputs": [
        {
          "output_type": "stream",
          "name": "stdout",
          "text": [
            "Total Score = [[7]]\n",
            " Predicted Salary = 15697.762540599055\n"
          ]
        },
        {
          "output_type": "stream",
          "name": "stderr",
          "text": [
            "/usr/local/lib/python3.7/dist-packages/sklearn/base.py:446: UserWarning: X does not have valid feature names, but LinearRegression was fitted with feature names\n",
            "  \"X does not have valid feature names, but\"\n"
          ]
        }
      ]
    },
    {
      "cell_type": "markdown",
      "metadata": {
        "id": "kyqrxAyPiKRy"
      },
      "source": [
        "**If the total score of candidate is 7 then predicted salary is 15697.76** "
      ]
    },
    {
      "cell_type": "code",
      "metadata": {
        "colab": {
          "base_uri": "https://localhost:8080/",
          "height": 387
        },
        "id": "SONwfrq0jIxG",
        "outputId": "9d482c16-cb85-4aed-fa8f-c00f7d4f8f5e"
      },
      "source": [
        "sns.set_style('whitegrid')\n",
        "sns.lmplot(x ='total_score', y ='Salary', data = new_df)\n"
      ],
      "execution_count": 29,
      "outputs": [
        {
          "output_type": "execute_result",
          "data": {
            "text/plain": [
              "<seaborn.axisgrid.FacetGrid at 0x7fabc1920850>"
            ]
          },
          "metadata": {},
          "execution_count": 29
        },
        {
          "output_type": "display_data",
          "data": {
            "image/png": "[encoded data removed]",
            "text/plain": [
              "<Figure size 360x360 with 1 Axes>"
            ]
          },
          "metadata": {}
        }
      ]
    },
    {
      "cell_type": "code",
      "metadata": {
        "colab": {
          "base_uri": "https://localhost:8080/",
          "height": 937
        },
        "id": "NfB8UW9FtCpm",
        "outputId": "fe929dc2-a289-4628-8ebd-da4367b675ea"
      },
      "source": [
        "fig, ax = plt.subplots()\n",
        "ax.scatter(y_test,y_pred)\n",
        "ax.text(10,50,f\"$R^2$ value:{r_2:.2f}\")\n",
        "ax.set_xlabel('Actual Y')\n",
        "ax.set_ylabel('Predicated y')\n",
        "plt.show()\n"
      ],
      "execution_count": 30,
      "outputs": [
        {
          "output_type": "display_data",
          "data": {
            "image/png": "[encoded data removed]",
            "text/plain": [
              "<Figure size 432x288 with 1 Axes>"
            ]
          },
          "metadata": {}
        }
      ]
    }
  ]
}